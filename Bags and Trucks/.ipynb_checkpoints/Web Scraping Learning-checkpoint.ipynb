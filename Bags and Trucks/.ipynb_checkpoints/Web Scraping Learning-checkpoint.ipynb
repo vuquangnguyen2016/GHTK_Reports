{
 "cells": [
  {
   "cell_type": "markdown",
   "metadata": {},
   "source": [
    "Learning From \\: https://github.com/justmarkham/trump-lies/blob/master/trump_lies.ipynb\n",
    "https://www.youtube.com/watch?v=zXif_9RVadI"
   ]
  },
  {
   "cell_type": "code",
   "execution_count": 72,
   "metadata": {},
   "outputs": [],
   "source": [
    "import os\n",
    "import requests\n",
    "from bs4 import BeautifulSoup\n",
    "import pandas as pd\n",
    "\n"
   ]
  },
  {
   "cell_type": "code",
   "execution_count": 73,
   "metadata": {},
   "outputs": [],
   "source": [
    "# Hut du lieu\n",
    "r = requests.get('https://www.nytimes.com/interactive/2017/06/23/opinion/trumps-lies.html')\n",
    "soup = BeautifulSoup(r.text, 'html.parser')\n",
    "results = soup.find_all('span', attrs={'class':'short-desc'})\n",
    "\n",
    "records = []\n",
    "for result in results:\n",
    "    DateStamp = result.find('strong').text[0:-1] + ', 2017'\n",
    "    NoiDung =  result.contents[1][1:-2]\n",
    "    Explanation = result.find('a').text[1:-1]\n",
    "    URL = result.find('a')['href']\n",
    "    records.append((DateStamp,NoiDung,Explanation,URL))\n",
    "    "
   ]
  },
  {
   "cell_type": "code",
   "execution_count": 68,
   "metadata": {},
   "outputs": [],
   "source": [
    "# Nap vao dataset\n",
    "DataScraping = pd.DataFrame(records, columns=['DateStamp', 'NoiDung', 'Explanation','URL'])\n",
    "DataScraping['DateStamp'] = pd.to_datetime(DataScraping['DateStamp'])\n"
   ]
  },
  {
   "cell_type": "code",
   "execution_count": 70,
   "metadata": {},
   "outputs": [],
   "source": [
    "# Ghi du lieu ra excel\n",
    "os.chdir('/home/lequang/Dropbox/DataCenter/GHTK/GHTK_Reports/Bags and Trucks/')\n",
    "DataScraping.to_csv('Extract.csv', index=False, encoding='utf-8')\n"
   ]
  },
  {
   "cell_type": "code",
   "execution_count": 74,
   "metadata": {},
   "outputs": [
    {
     "ename": "FeatureNotFound",
     "evalue": "Couldn't find a tree builder with the features you requested: html-parse. Do you need to install a parser library?",
     "output_type": "error",
     "traceback": [
      "\u001b[0;31m---------------------------------------------------------------------------\u001b[0m",
      "\u001b[0;31mFeatureNotFound\u001b[0m                           Traceback (most recent call last)",
      "\u001b[0;32m<ipython-input-74-d959cf2de44a>\u001b[0m in \u001b[0;36m<module>\u001b[0;34m\u001b[0m\n\u001b[1;32m      1\u001b[0m \u001b[0mr_ghtkbags\u001b[0m \u001b[0;34m=\u001b[0m \u001b[0mrequests\u001b[0m\u001b[0;34m.\u001b[0m\u001b[0mget\u001b[0m\u001b[0;34m(\u001b[0m\u001b[0;34m'https://admin2.giaohangtietkiem.vn/admin/AdBags/listBagsLogs/limit:100?bag_order=&seal=&cuid=&cr_from=2019-12-26+00%3A00%3A00&cr_to=2019-12-26+23%3A59%3A59&transport_type=&bag_type=&only_not_process=0&station_id=&transfer_station_id%5B0%5D=4363&cur_station_id=&bag_status_id=&transfer_status_id=&imp_from=&imp_to=&plane_station_id=&plane_company_id=&truck_order=&export_bag=0&exp_station=&exp_time_from=&exp_time_to='\u001b[0m\u001b[0;34m)\u001b[0m\u001b[0;34m\u001b[0m\u001b[0;34m\u001b[0m\u001b[0m\n\u001b[0;32m----> 2\u001b[0;31m \u001b[0msoup_ghtkbags\u001b[0m \u001b[0;34m=\u001b[0m \u001b[0mBeautifulSoup\u001b[0m\u001b[0;34m(\u001b[0m\u001b[0mr_ghtkbags\u001b[0m\u001b[0;34m.\u001b[0m\u001b[0mtext\u001b[0m\u001b[0;34m,\u001b[0m\u001b[0;34m'html-parse'\u001b[0m\u001b[0;34m)\u001b[0m\u001b[0;34m\u001b[0m\u001b[0;34m\u001b[0m\u001b[0m\n\u001b[0m\u001b[1;32m      3\u001b[0m \u001b[0msoup_ghtkbags\u001b[0m\u001b[0;34m\u001b[0m\u001b[0;34m\u001b[0m\u001b[0m\n",
      "\u001b[0;32m/usr/local/lib/python3.7/site-packages/bs4/__init__.py\u001b[0m in \u001b[0;36m__init__\u001b[0;34m(self, markup, features, builder, parse_only, from_encoding, exclude_encodings, element_classes, **kwargs)\u001b[0m\n\u001b[1;32m    226\u001b[0m                     \u001b[0;34m\"Couldn't find a tree builder with the features you \"\u001b[0m\u001b[0;34m\u001b[0m\u001b[0;34m\u001b[0m\u001b[0m\n\u001b[1;32m    227\u001b[0m                     \u001b[0;34m\"requested: %s. Do you need to install a parser library?\"\u001b[0m\u001b[0;34m\u001b[0m\u001b[0;34m\u001b[0m\u001b[0m\n\u001b[0;32m--> 228\u001b[0;31m                     % \",\".join(features))\n\u001b[0m\u001b[1;32m    229\u001b[0m \u001b[0;34m\u001b[0m\u001b[0m\n\u001b[1;32m    230\u001b[0m         \u001b[0;31m# At this point either we have a TreeBuilder instance in\u001b[0m\u001b[0;34m\u001b[0m\u001b[0;34m\u001b[0m\u001b[0;34m\u001b[0m\u001b[0m\n",
      "\u001b[0;31mFeatureNotFound\u001b[0m: Couldn't find a tree builder with the features you requested: html-parse. Do you need to install a parser library?"
     ]
    }
   ],
   "source": [
    "r_ghtkbags = requests.get('https://admin2.giaohangtietkiem.vn/admin/AdBags/listBagsLogs/limit:100?bag_order=&seal=&cuid=&cr_from=2019-12-26+00%3A00%3A00&cr_to=2019-12-26+23%3A59%3A59&transport_type=&bag_type=&only_not_process=0&station_id=&transfer_station_id%5B0%5D=4363&cur_station_id=&bag_status_id=&transfer_status_id=&imp_from=&imp_to=&plane_station_id=&plane_company_id=&truck_order=&export_bag=0&exp_station=&exp_time_from=&exp_time_to=')\n",
    "soup_ghtkbags = BeautifulSoup(r_ghtkbags.text,'html-parse')\n",
    "soup_ghtkbags"
   ]
  },
  {
   "cell_type": "code",
   "execution_count": null,
   "metadata": {},
   "outputs": [],
   "source": []
  }
 ],
 "metadata": {
  "kernelspec": {
   "display_name": "Python 3",
   "language": "python",
   "name": "python3"
  },
  "language_info": {
   "codemirror_mode": {
    "name": "ipython",
    "version": 3
   },
   "file_extension": ".py",
   "mimetype": "text/x-python",
   "name": "python",
   "nbconvert_exporter": "python",
   "pygments_lexer": "ipython3",
   "version": "3.7.5"
  }
 },
 "nbformat": 4,
 "nbformat_minor": 2
}
