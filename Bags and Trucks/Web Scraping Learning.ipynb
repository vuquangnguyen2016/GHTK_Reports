{
 "cells": [
  {
   "cell_type": "markdown",
   "metadata": {},
   "source": [
    "Learning From \\: https://github.com/justmarkham/trump-lies/blob/master/trump_lies.ipynb\n",
    "https://www.youtube.com/watch?v=zXif_9RVadI\n",
    "\n",
    "https://srome.github.io/Parsing-HTML-Tables-in-Python-with-BeautifulSoup-and-pandas/"
   ]
  },
  {
   "cell_type": "code",
   "execution_count": 72,
   "metadata": {},
   "outputs": [],
   "source": [
    "import os\n",
    "import requests\n",
    "from bs4 import BeautifulSoup\n",
    "import pandas as pd\n",
    "\n"
   ]
  },
  {
   "cell_type": "code",
   "execution_count": null,
   "metadata": {},
   "outputs": [],
   "source": []
  },
  {
   "cell_type": "code",
   "execution_count": 73,
   "metadata": {},
   "outputs": [],
   "source": [
    "# Hut du lieu\n",
    "r = requests.get('https://www.nytimes.com/interactive/2017/06/23/opinion/trumps-lies.html')\n",
    "soup = BeautifulSoup(r.text, 'html.parser')\n",
    "results = soup.find_all('span', attrs={'class':'short-desc'})\n",
    "\n",
    "records = []\n",
    "for result in results:\n",
    "    DateStamp = result.find('strong').text[0:-1] + ', 2017'\n",
    "    NoiDung =  result.contents[1][1:-2]\n",
    "    Explanation = result.find('a').text[1:-1]\n",
    "    URL = result.find('a')['href']\n",
    "    records.append((DateStamp,NoiDung,Explanation,URL))\n",
    "    "
   ]
  },
  {
   "cell_type": "code",
   "execution_count": 68,
   "metadata": {},
   "outputs": [],
   "source": [
    "# Nap vao dataset\n",
    "DataScraping = pd.DataFrame(records, columns=['DateStamp', 'NoiDung', 'Explanation','URL'])\n",
    "DataScraping['DateStamp'] = pd.to_datetime(DataScraping['DateStamp'])\n"
   ]
  },
  {
   "cell_type": "code",
   "execution_count": 70,
   "metadata": {},
   "outputs": [],
   "source": [
    "# Ghi du lieu ra excel\n",
    "os.chdir('/home/lequang/Dropbox/DataCenter/GHTK/GHTK_Reports/Bags and Trucks/')\n",
    "DataScraping.to_csv('Extract.csv', index=False, encoding='utf-8')\n"
   ]
  }
 ],
 "metadata": {
  "kernelspec": {
   "display_name": "Python 3",
   "language": "python",
   "name": "python3"
  },
  "language_info": {
   "codemirror_mode": {
    "name": "ipython",
    "version": 3
   },
   "file_extension": ".py",
   "mimetype": "text/x-python",
   "name": "python",
   "nbconvert_exporter": "python",
   "pygments_lexer": "ipython3",
   "version": "3.7.5"
  }
 },
 "nbformat": 4,
 "nbformat_minor": 2
}
