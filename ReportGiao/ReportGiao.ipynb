{
 "cells": [
  {
   "cell_type": "code",
   "execution_count": 1,
   "metadata": {},
   "outputs": [],
   "source": [
    "# pip install xlrd pandas datetime os\n",
    "import pandas as pd\n",
    "import os\n",
    "import openpyxl\n",
    "from datetime import datetime "
   ]
  },
  {
   "cell_type": "code",
   "execution_count": 2,
   "metadata": {},
   "outputs": [],
   "source": [
    "#Q1: name_bill = \"hoa_don_cod_20200102153939_5e0dac4b-4610-4e2a-897a-cc5b0a0a020b.xlsx\"\n",
    "name_bill = \"hoa_don_cod_20200102212313_5e0dfcd1-9c90-4745-8f4c-46430a0a020b.xlsx\"\n",
    "\n",
    "os.chdir('/home/lequang/Dropbox/DataCenter/GHTK/GHTK_Reports/ReportGiao/')"
   ]
  },
  {
   "cell_type": "code",
   "execution_count": 3,
   "metadata": {
    "scrolled": true
   },
   "outputs": [],
   "source": [
    "# Import Dataset\n",
    "\n",
    "DataCod= pd.read_excel(\"CodQ1.xlsx\")\n",
    "#DataCod= pd.read_excel(\"CodTB.xlsx\")\n",
    "DataBill = pd.read_excel(name_bill)\n",
    "Source_Q1 = DataCod.merge(DataBill, on=['Cod'], how='left')\n",
    "\n",
    "Source_Q1['DateStamp'] = pd.to_datetime(Source_Q1['TG tạo'], errors ='coerce').dt.strftime('%m/%d/%Y').dropna()\n",
    "Data_Cod = Source_Q1.groupby('Cod')[['SL ĐH',  'SL ĐH đã đối soát', 'SL ĐH đã đối soát' , 'SL ĐH delay']].sum().reset_index()\n",
    "Data_Dately = Source_Q1.groupby('DateStamp')[['SL ĐH',  'SL ĐH đã đối soát', 'SL ĐH đã đối soát' , 'SL ĐH delay']].sum().reset_index()\n",
    "Data_Cart_Dately = Source_Q1.groupby(['Cart','DateStamp'])[['SL ĐH',  'SL ĐH đã đối soát', 'SL ĐH đã đối soát' , 'SL ĐH delay']].sum().reset_index()\n",
    "Data_Cart = Source_Q1.groupby('Cart')[['SL ĐH',  'SL ĐH đã đối soát', 'SL ĐH đã đối soát' , 'SL ĐH delay']].sum().reset_index()\n",
    "\n",
    "with pd.ExcelWriter('Report_TB.xlsx') as writer: \n",
    "    Data_Cod.to_excel(writer, sheet_name='Cod')\n",
    "    Data_Dately.to_excel(writer, sheet_name='Dately')\n",
    "    Data_Cart.to_excel(writer,sheet_name='Cart')\n",
    "    Data_Cart_Dately.to_excel(writer,sheet_name='Cart_Dately')"
   ]
  }
 ],
 "metadata": {
  "kernelspec": {
   "display_name": "Python 3",
   "language": "python",
   "name": "python3"
  },
  "language_info": {
   "codemirror_mode": {
    "name": "ipython",
    "version": 3
   },
   "file_extension": ".py",
   "mimetype": "text/x-python",
   "name": "python",
   "nbconvert_exporter": "python",
   "pygments_lexer": "ipython3",
   "version": "3.7.5"
  }
 },
 "nbformat": 4,
 "nbformat_minor": 2
}
